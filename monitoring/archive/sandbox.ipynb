{
 "cells": [
  {
   "cell_type": "code",
   "execution_count": 1,
   "metadata": {},
   "outputs": [],
   "source": [
    "from google.cloud import monitoring_v3\n",
    "from google.cloud.monitoring_v3.query import Query\n",
    "import datetime\n",
    "import time\n",
    "\n",
    "import requests"
   ]
  },
  {
   "cell_type": "code",
   "execution_count": null,
   "metadata": {},
   "outputs": [],
   "source": []
  },
  {
   "cell_type": "code",
   "execution_count": 7,
   "metadata": {},
   "outputs": [],
   "source": [
    "_GCP_METADATA_URI = 'http://metadata.google.internal/computeMetadata/v1/'\n",
    "_GCP_METADATA_URI_HEADER = {'Metadata-Flavor': 'Google'}"
   ]
  },
  {
   "cell_type": "code",
   "execution_count": 22,
   "metadata": {},
   "outputs": [],
   "source": [
    "response = requests.get(_GCP_METADATA_URI + 'instance/id', headers=_GCP_METADATA_URI_HEADER)"
   ]
  },
  {
   "cell_type": "code",
   "execution_count": 23,
   "metadata": {},
   "outputs": [
    {
     "data": {
      "text/plain": [
       "'284365999706661199'"
      ]
     },
     "execution_count": 23,
     "metadata": {},
     "output_type": "execute_result"
    }
   ],
   "source": [
    "response.text"
   ]
  },
  {
   "cell_type": "code",
   "execution_count": null,
   "metadata": {},
   "outputs": [],
   "source": []
  },
  {
   "cell_type": "code",
   "execution_count": 5,
   "metadata": {},
   "outputs": [
    {
     "data": {
      "text/plain": [
       "<enum 'ValueType'>"
      ]
     },
     "execution_count": 5,
     "metadata": {},
     "output_type": "execute_result"
    }
   ],
   "source": [
    "type(monitoring_v3.enums.MetricDescriptor.ValueType.INT64)"
   ]
  },
  {
   "cell_type": "code",
   "execution_count": 6,
   "metadata": {},
   "outputs": [],
   "source": [
    "point = monitoring_v3.types.Point()"
   ]
  },
  {
   "cell_type": "code",
   "execution_count": 7,
   "metadata": {},
   "outputs": [
    {
     "data": {
      "text/plain": [
       "google.cloud.monitoring_v3.types.Point"
      ]
     },
     "execution_count": 7,
     "metadata": {},
     "output_type": "execute_result"
    }
   ],
   "source": [
    "type(point)"
   ]
  },
  {
   "cell_type": "code",
   "execution_count": 11,
   "metadata": {},
   "outputs": [
    {
     "data": {
      "text/plain": [
       "['ByteSize',\n",
       " 'Clear',\n",
       " 'ClearExtension',\n",
       " 'ClearField',\n",
       " 'CopyFrom',\n",
       " 'DESCRIPTOR',\n",
       " 'DiscardUnknownFields',\n",
       " 'Extensions',\n",
       " 'FindInitializationErrors',\n",
       " 'FromString',\n",
       " 'HasExtension',\n",
       " 'HasField',\n",
       " 'IsInitialized',\n",
       " 'ListFields',\n",
       " 'MergeFrom',\n",
       " 'MergeFromString',\n",
       " 'ParseFromString',\n",
       " 'RegisterExtension',\n",
       " 'SerializePartialToString',\n",
       " 'SerializeToString',\n",
       " 'SetInParent',\n",
       " 'UnknownFields',\n",
       " 'WhichOneof',\n",
       " '_CheckCalledFromGeneratedFile',\n",
       " '_SetListener',\n",
       " '__class__',\n",
       " '__deepcopy__',\n",
       " '__delattr__',\n",
       " '__dir__',\n",
       " '__doc__',\n",
       " '__eq__',\n",
       " '__format__',\n",
       " '__ge__',\n",
       " '__getattribute__',\n",
       " '__getstate__',\n",
       " '__gt__',\n",
       " '__hash__',\n",
       " '__init__',\n",
       " '__init_subclass__',\n",
       " '__le__',\n",
       " '__lt__',\n",
       " '__module__',\n",
       " '__ne__',\n",
       " '__new__',\n",
       " '__reduce__',\n",
       " '__reduce_ex__',\n",
       " '__repr__',\n",
       " '__setattr__',\n",
       " '__setstate__',\n",
       " '__sizeof__',\n",
       " '__slots__',\n",
       " '__str__',\n",
       " '__subclasshook__',\n",
       " '__unicode__',\n",
       " '_extensions_by_name',\n",
       " '_extensions_by_number',\n",
       " 'bool_value',\n",
       " 'distribution_value',\n",
       " 'double_value',\n",
       " 'int64_value',\n",
       " 'string_value']"
      ]
     },
     "execution_count": 11,
     "metadata": {},
     "output_type": "execute_result"
    }
   ],
   "source": [
    "dir(point.value)"
   ]
  },
  {
   "cell_type": "code",
   "execution_count": 2,
   "metadata": {},
   "outputs": [],
   "source": [
    "client = monitoring_v3.MetricServiceClient()\n",
    "project_name = f'projects/jk-mlops-dev'\n",
    "filter = 'metric.type = starts_with(\"custom.googleapis.com/gce/gpu-test\")'\n"
   ]
  },
  {
   "cell_type": "code",
   "execution_count": 3,
   "metadata": {},
   "outputs": [
    {
     "name": "stdout",
     "output_type": "stream",
     "text": [
      "Descriptor: projects/jk-mlops-dev/metricDescriptors/custom.googleapis.com/gce/gpu-test/fp32_active\n",
      "name: \"projects/jk-mlops-dev/metricDescriptors/custom.googleapis.com/gce/gpu-test/fp32_active\"\n",
      "labels {\n",
      "  key: \"gpu\"\n",
      "}\n",
      "metric_kind: GAUGE\n",
      "value_type: DOUBLE\n",
      "unit: \"ratio\"\n",
      "description: \"Ratio of cycles the FP32 cores are active\"\n",
      "type: \"custom.googleapis.com/gce/gpu-test/fp32_active\"\n",
      "\n",
      "Descriptor: projects/jk-mlops-dev/metricDescriptors/custom.googleapis.com/gce/gpu-test/gr_engine_active\n",
      "name: \"projects/jk-mlops-dev/metricDescriptors/custom.googleapis.com/gce/gpu-test/gr_engine_active\"\n",
      "labels {\n",
      "  key: \"gpu\"\n",
      "}\n",
      "metric_kind: GAUGE\n",
      "value_type: DOUBLE\n",
      "unit: \"ratio\"\n",
      "description: \"Ratio of time the graphics engine is active\"\n",
      "type: \"custom.googleapis.com/gce/gpu-test/gr_engine_active\"\n",
      "\n",
      "Descriptor: projects/jk-mlops-dev/metricDescriptors/custom.googleapis.com/gce/gpu-test/mem_used\n",
      "name: \"projects/jk-mlops-dev/metricDescriptors/custom.googleapis.com/gce/gpu-test/mem_used\"\n",
      "labels {\n",
      "  key: \"gpu\"\n",
      "}\n",
      "metric_kind: GAUGE\n",
      "value_type: INT64\n",
      "unit: \"MBy\"\n",
      "description: \"GPU memory used\"\n",
      "type: \"custom.googleapis.com/gce/gpu-test/mem_used\"\n",
      "\n",
      "Descriptor: projects/jk-mlops-dev/metricDescriptors/custom.googleapis.com/gce/gpu-test/memory_active\n",
      "name: \"projects/jk-mlops-dev/metricDescriptors/custom.googleapis.com/gce/gpu-test/memory_active\"\n",
      "labels {\n",
      "  key: \"gpu\"\n",
      "}\n",
      "metric_kind: GAUGE\n",
      "value_type: DOUBLE\n",
      "unit: \"ratio\"\n",
      "description: \"Ratio of cycles the device memory inteface is active sending or receiving data\"\n",
      "type: \"custom.googleapis.com/gce/gpu-test/memory_active\"\n",
      "\n",
      "Descriptor: projects/jk-mlops-dev/metricDescriptors/custom.googleapis.com/gce/gpu-test/nvlink_rx_throughput\n",
      "name: \"projects/jk-mlops-dev/metricDescriptors/custom.googleapis.com/gce/gpu-test/nvlink_rx_throughput\"\n",
      "labels {\n",
      "  key: \"gpu\"\n",
      "}\n",
      "metric_kind: GAUGE\n",
      "value_type: INT64\n",
      "description: \"NVLink receive througput\"\n",
      "type: \"custom.googleapis.com/gce/gpu-test/nvlink_rx_throughput\"\n",
      "\n",
      "Descriptor: projects/jk-mlops-dev/metricDescriptors/custom.googleapis.com/gce/gpu-test/nvlink_tx_throughput\n",
      "name: \"projects/jk-mlops-dev/metricDescriptors/custom.googleapis.com/gce/gpu-test/nvlink_tx_throughput\"\n",
      "labels {\n",
      "  key: \"gpu\"\n",
      "}\n",
      "metric_kind: GAUGE\n",
      "value_type: INT64\n",
      "description: \"NVLink transmit througput\"\n",
      "type: \"custom.googleapis.com/gce/gpu-test/nvlink_tx_throughput\"\n",
      "\n",
      "Descriptor: projects/jk-mlops-dev/metricDescriptors/custom.googleapis.com/gce/gpu-test/pcie_rx_throughput\n",
      "name: \"projects/jk-mlops-dev/metricDescriptors/custom.googleapis.com/gce/gpu-test/pcie_rx_throughput\"\n",
      "labels {\n",
      "  key: \"gpu\"\n",
      "}\n",
      "metric_kind: GAUGE\n",
      "value_type: INT64\n",
      "description: \"PCIE receive througput\"\n",
      "type: \"custom.googleapis.com/gce/gpu-test/pcie_rx_throughput\"\n",
      "\n",
      "Descriptor: projects/jk-mlops-dev/metricDescriptors/custom.googleapis.com/gce/gpu-test/pcie_tx_throughput\n",
      "name: \"projects/jk-mlops-dev/metricDescriptors/custom.googleapis.com/gce/gpu-test/pcie_tx_throughput\"\n",
      "labels {\n",
      "  key: \"gpu\"\n",
      "}\n",
      "metric_kind: GAUGE\n",
      "value_type: INT64\n",
      "description: \"PCIE transmit througput\"\n",
      "type: \"custom.googleapis.com/gce/gpu-test/pcie_tx_throughput\"\n",
      "\n",
      "Descriptor: projects/jk-mlops-dev/metricDescriptors/custom.googleapis.com/gce/gpu-test/power_usage\n",
      "name: \"projects/jk-mlops-dev/metricDescriptors/custom.googleapis.com/gce/gpu-test/power_usage\"\n",
      "labels {\n",
      "  key: \"gpu\"\n",
      "}\n",
      "metric_kind: GAUGE\n",
      "value_type: DOUBLE\n",
      "unit: \"watt\"\n",
      "description: \"Power usage\"\n",
      "type: \"custom.googleapis.com/gce/gpu-test/power_usage\"\n",
      "\n",
      "Descriptor: projects/jk-mlops-dev/metricDescriptors/custom.googleapis.com/gce/gpu-test/sm_active\n",
      "name: \"projects/jk-mlops-dev/metricDescriptors/custom.googleapis.com/gce/gpu-test/sm_active\"\n",
      "labels {\n",
      "  key: \"gpu\"\n",
      "}\n",
      "metric_kind: GAUGE\n",
      "value_type: DOUBLE\n",
      "unit: \"ratio\"\n",
      "description: \"Ratio of cycles an SM has at least 1 warp assigned\"\n",
      "type: \"custom.googleapis.com/gce/gpu-test/sm_active\"\n",
      "\n",
      "Descriptor: projects/jk-mlops-dev/metricDescriptors/custom.googleapis.com/gce/gpu-test/sm_occupancy\n",
      "name: \"projects/jk-mlops-dev/metricDescriptors/custom.googleapis.com/gce/gpu-test/sm_occupancy\"\n",
      "labels {\n",
      "  key: \"gpu\"\n",
      "}\n",
      "metric_kind: GAUGE\n",
      "value_type: DOUBLE\n",
      "unit: \"ratio\"\n",
      "description: \"Ratio of number of warps resident on an SM\"\n",
      "type: \"custom.googleapis.com/gce/gpu-test/sm_occupancy\"\n",
      "\n",
      "Descriptor: projects/jk-mlops-dev/metricDescriptors/custom.googleapis.com/gce/gpu-test/tensor_active\n",
      "name: \"projects/jk-mlops-dev/metricDescriptors/custom.googleapis.com/gce/gpu-test/tensor_active\"\n",
      "labels {\n",
      "  key: \"gpu\"\n",
      "}\n",
      "metric_kind: GAUGE\n",
      "value_type: DOUBLE\n",
      "unit: \"ratio\"\n",
      "description: \"Ratio of cycles the tensor cores are active\"\n",
      "type: \"custom.googleapis.com/gce/gpu-test/tensor_active\"\n",
      "\n",
      "Descriptor: projects/jk-mlops-dev/metricDescriptors/custom.googleapis.com/gce/gpu-test/utilization\n",
      "name: \"projects/jk-mlops-dev/metricDescriptors/custom.googleapis.com/gce/gpu-test/utilization\"\n",
      "labels {\n",
      "  key: \"gpu\"\n",
      "}\n",
      "metric_kind: GAUGE\n",
      "value_type: INT64\n",
      "unit: \"%\"\n",
      "description: \"GPU utilization\"\n",
      "type: \"custom.googleapis.com/gce/gpu-test/utilization\"\n",
      "\n"
     ]
    }
   ],
   "source": [
    "for descriptor in client.list_metric_descriptors(name=project_name, filter_=filter):\n",
    "    print(f'Descriptor: {descriptor.name}')\n",
    "    print(descriptor)"
   ]
  },
  {
   "cell_type": "code",
   "execution_count": 4,
   "metadata": {},
   "outputs": [
    {
     "data": {
      "text/plain": [
       "name: \"projects/jk-mlops-dev/metricDescriptors/custom.googleapis.com/gce/gpu/sm_active\"\n",
       "labels {\n",
       "  key: \"gpu\"\n",
       "}\n",
       "metric_kind: GAUGE\n",
       "value_type: DOUBLE\n",
       "unit: \"ratio\"\n",
       "description: \"Ratio of cycles an SM has at least 1 warp assigned\"\n",
       "type: \"custom.googleapis.com/gce/gpu/sm_active\""
      ]
     },
     "execution_count": 4,
     "metadata": {},
     "output_type": "execute_result"
    }
   ],
   "source": [
    "client.get_metric_descriptor(name='projects/jk-mlops-dev/metricDescriptors/custom.googleapis.com/gce/gpu/sm_active')"
   ]
  },
  {
   "cell_type": "code",
   "execution_count": null,
   "metadata": {},
   "outputs": [],
   "source": []
  },
  {
   "cell_type": "code",
   "execution_count": null,
   "metadata": {},
   "outputs": [],
   "source": []
  },
  {
   "cell_type": "code",
   "execution_count": 28,
   "metadata": {},
   "outputs": [],
   "source": [
    "def report_gpu_metric(value, seconds, nanos, type, instance_id, zone, project_id):\n",
    "    series = monitoring_v3.types.TimeSeries()\n",
    "    series.metric.type = 'custom.googleapis.com/{type}'.format(type=type)\n",
    "    series.resource.type = 'gce_instance'\n",
    "    series.resource.labels['instance_id'] = instance_id\n",
    "    series.resource.labels['zone'] = zone\n",
    "    series.resource.labels['project_id'] = project_id\n",
    "\n",
    "    point = series.points.add()\n",
    "    point.value.int64_value = value\n",
    "    point.interval.end_time.seconds = seconds\n",
    "    point.interval.end_time.nanos = nanos\n",
    "    \n",
    "    client.create_time_series(project_name, [series])\n",
    "    "
   ]
  },
  {
   "cell_type": "code",
   "execution_count": 12,
   "metadata": {},
   "outputs": [],
   "source": [
    "metric_type = 'gce/gpu/utilization'\n",
    "instance_id = '284365999706661199'\n",
    "zone = 'us-west1-b'\n",
    "project_id = 'jk-mlops-dev'\n",
    "\n",
    "now = time.time()\n",
    "seconds = int(now) \n",
    "nanos = int(\n",
    "        (now - seconds) * 10**9)"
   ]
  },
  {
   "cell_type": "code",
   "execution_count": 19,
   "metadata": {},
   "outputs": [
    {
     "name": "stdout",
     "output_type": "stream",
     "text": [
      "interval {\n",
      "  end_time {\n",
      "    seconds: 1616006401\n",
      "    nanos: 425619602\n",
      "  }\n",
      "}\n",
      "value {\n",
      "  int64_value: 94\n",
      "}\n",
      "\n",
      "None\n"
     ]
    }
   ],
   "source": [
    "value = 94\n",
    "\n",
    "result = report_gpu_metric(value=value,\n",
    "                      seconds=seconds,\n",
    "                      nanos=nanos,\n",
    "                      type=metric_type,\n",
    "                      instance_id=instance_id,\n",
    "                      zone=zone,\n",
    "                      project_id=project_id)"
   ]
  },
  {
   "cell_type": "code",
   "execution_count": 25,
   "metadata": {},
   "outputs": [
    {
     "name": "stdout",
     "output_type": "stream",
     "text": [
      "1616008881 int64_value: 73\n",
      "\n",
      "1616008875 int64_value: 70\n",
      "\n"
     ]
    }
   ],
   "source": [
    "filter = 'metric.type = \"custom.googleapis.com/gce/gpu/utilization\"'\n",
    "\n",
    "now = time.time()\n",
    "seconds = int(now)\n",
    "nanos = int((now - seconds)*10**9)\n",
    "interval = monitoring_v3.types.TimeInterval(\n",
    "        end_time = {\"seconds\": seconds, \"nanos\": nanos},\n",
    "        start_time = {\"seconds\": (seconds - 480), \"nanos\": nanos}\n",
    ")\n",
    "\n",
    "\n",
    "responses = client.list_time_series(\n",
    "        name=project_name,\n",
    "        filter_=filter,\n",
    "        interval=interval,\n",
    "        view=monitoring_v3.types.ListTimeSeriesRequest.TimeSeriesView.FULL\n",
    ")\n",
    "results = list(responses)\n",
    "\n",
    "for point in results[0].points:\n",
    "    print(point.interval.end_time.seconds, point.value)"
   ]
  },
  {
   "cell_type": "code",
   "execution_count": 23,
   "metadata": {},
   "outputs": [
    {
     "name": "stdout",
     "output_type": "stream",
     "text": [
      "1616005598 int64_value: 91\n",
      "\n",
      "1616005519 int64_value: 91\n",
      "\n",
      "1616005509 int64_value: 65\n",
      "\n",
      "1616005473 int64_value: 65\n",
      "\n",
      "1616005408 int64_value: 65\n",
      "\n",
      "1616005359 int64_value: 65\n",
      "\n",
      "1616005315 int64_value: 65\n",
      "\n"
     ]
    }
   ],
   "source": []
  },
  {
   "cell_type": "code",
   "execution_count": 19,
   "metadata": {},
   "outputs": [
    {
     "ename": "TypeError",
     "evalue": "'GRPCIterator' object is not subscriptable",
     "output_type": "error",
     "traceback": [
      "\u001b[0;31m---------------------------------------------------------------------------\u001b[0m",
      "\u001b[0;31mTypeError\u001b[0m                                 Traceback (most recent call last)",
      "\u001b[0;32m<ipython-input-19-e4d1bf1908ad>\u001b[0m in \u001b[0;36m<module>\u001b[0;34m\u001b[0m\n\u001b[0;32m----> 1\u001b[0;31m \u001b[0;32mfor\u001b[0m \u001b[0mpoint\u001b[0m \u001b[0;32min\u001b[0m \u001b[0mresults\u001b[0m\u001b[0;34m[\u001b[0m\u001b[0;36m0\u001b[0m\u001b[0;34m]\u001b[0m\u001b[0;34m.\u001b[0m\u001b[0mpoints\u001b[0m\u001b[0;34m:\u001b[0m\u001b[0;34m\u001b[0m\u001b[0;34m\u001b[0m\u001b[0m\n\u001b[0m\u001b[1;32m      2\u001b[0m    \u001b[0mprint\u001b[0m\u001b[0;34m(\u001b[0m\u001b[0mpoint\u001b[0m\u001b[0;34m)\u001b[0m\u001b[0;34m\u001b[0m\u001b[0;34m\u001b[0m\u001b[0m\n",
      "\u001b[0;31mTypeError\u001b[0m: 'GRPCIterator' object is not subscriptable"
     ]
    }
   ],
   "source": [
    "for point in results[0].points:\n",
    "   print(point)"
   ]
  },
  {
   "cell_type": "code",
   "execution_count": 9,
   "metadata": {},
   "outputs": [
    {
     "data": {
      "text/plain": [
       "['Aggregation',\n",
       " 'AlertPolicy',\n",
       " 'Any',\n",
       " 'BasicSli',\n",
       " 'BoolValue',\n",
       " 'BytesValue',\n",
       " 'CreateAlertPolicyRequest',\n",
       " 'CreateGroupRequest',\n",
       " 'CreateMetricDescriptorRequest',\n",
       " 'CreateNotificationChannelRequest',\n",
       " 'CreateServiceLevelObjectiveRequest',\n",
       " 'CreateServiceRequest',\n",
       " 'CreateTimeSeriesError',\n",
       " 'CreateTimeSeriesRequest',\n",
       " 'CreateTimeSeriesSummary',\n",
       " 'CreateUptimeCheckConfigRequest',\n",
       " 'DeleteAlertPolicyRequest',\n",
       " 'DeleteGroupRequest',\n",
       " 'DeleteMetricDescriptorRequest',\n",
       " 'DeleteNotificationChannelRequest',\n",
       " 'DeleteServiceLevelObjectiveRequest',\n",
       " 'DeleteServiceRequest',\n",
       " 'DeleteUptimeCheckConfigRequest',\n",
       " 'Distribution',\n",
       " 'DistributionCut',\n",
       " 'DoubleValue',\n",
       " 'DroppedLabels',\n",
       " 'Duration',\n",
       " 'Empty',\n",
       " 'FieldMask',\n",
       " 'FloatValue',\n",
       " 'GetAlertPolicyRequest',\n",
       " 'GetGroupRequest',\n",
       " 'GetMetricDescriptorRequest',\n",
       " 'GetMonitoredResourceDescriptorRequest',\n",
       " 'GetNotificationChannelDescriptorRequest',\n",
       " 'GetNotificationChannelRequest',\n",
       " 'GetNotificationChannelVerificationCodeRequest',\n",
       " 'GetNotificationChannelVerificationCodeResponse',\n",
       " 'GetServiceLevelObjectiveRequest',\n",
       " 'GetServiceRequest',\n",
       " 'GetUptimeCheckConfigRequest',\n",
       " 'Group',\n",
       " 'Int32Value',\n",
       " 'Int64Value',\n",
       " 'InternalChecker',\n",
       " 'LabelDescriptor',\n",
       " 'LabelValue',\n",
       " 'ListAlertPoliciesRequest',\n",
       " 'ListAlertPoliciesResponse',\n",
       " 'ListGroupMembersRequest',\n",
       " 'ListGroupMembersResponse',\n",
       " 'ListGroupsRequest',\n",
       " 'ListGroupsResponse',\n",
       " 'ListMetricDescriptorsRequest',\n",
       " 'ListMetricDescriptorsResponse',\n",
       " 'ListMonitoredResourceDescriptorsRequest',\n",
       " 'ListMonitoredResourceDescriptorsResponse',\n",
       " 'ListNotificationChannelDescriptorsRequest',\n",
       " 'ListNotificationChannelDescriptorsResponse',\n",
       " 'ListNotificationChannelsRequest',\n",
       " 'ListNotificationChannelsResponse',\n",
       " 'ListServiceLevelObjectivesRequest',\n",
       " 'ListServiceLevelObjectivesResponse',\n",
       " 'ListServicesRequest',\n",
       " 'ListServicesResponse',\n",
       " 'ListTimeSeriesRequest',\n",
       " 'ListTimeSeriesResponse',\n",
       " 'ListUptimeCheckConfigsRequest',\n",
       " 'ListUptimeCheckConfigsResponse',\n",
       " 'ListUptimeCheckIpsRequest',\n",
       " 'ListUptimeCheckIpsResponse',\n",
       " 'ListValue',\n",
       " 'Metric',\n",
       " 'MetricDescriptor',\n",
       " 'MonitoredResource',\n",
       " 'MonitoredResourceDescriptor',\n",
       " 'MonitoredResourceMetadata',\n",
       " 'MutationRecord',\n",
       " 'NotificationChannel',\n",
       " 'NotificationChannelDescriptor',\n",
       " 'Point',\n",
       " 'QueryError',\n",
       " 'QueryErrorList',\n",
       " 'QueryTimeSeriesRequest',\n",
       " 'QueryTimeSeriesResponse',\n",
       " 'Range',\n",
       " 'RequestBasedSli',\n",
       " 'SendNotificationChannelVerificationCodeRequest',\n",
       " 'Service',\n",
       " 'ServiceLevelIndicator',\n",
       " 'ServiceLevelObjective',\n",
       " 'SpanContext',\n",
       " 'Status',\n",
       " 'StringValue',\n",
       " 'Struct',\n",
       " 'TextLocator',\n",
       " 'TimeInterval',\n",
       " 'TimeSeries',\n",
       " 'TimeSeriesData',\n",
       " 'TimeSeriesDescriptor',\n",
       " 'TimeSeriesRatio',\n",
       " 'Timestamp',\n",
       " 'TypedValue',\n",
       " 'UInt32Value',\n",
       " 'UInt64Value',\n",
       " 'UpdateAlertPolicyRequest',\n",
       " 'UpdateGroupRequest',\n",
       " 'UpdateNotificationChannelRequest',\n",
       " 'UpdateServiceLevelObjectiveRequest',\n",
       " 'UpdateServiceRequest',\n",
       " 'UpdateUptimeCheckConfigRequest',\n",
       " 'UptimeCheckConfig',\n",
       " 'UptimeCheckIp',\n",
       " 'Value',\n",
       " 'VerifyNotificationChannelRequest',\n",
       " 'WindowsBasedSli',\n",
       " '__all__',\n",
       " '__builtins__',\n",
       " '__cached__',\n",
       " '__doc__',\n",
       " '__file__',\n",
       " '__loader__',\n",
       " '__name__',\n",
       " '__package__',\n",
       " '__spec__',\n",
       " '_local_modules',\n",
       " '_shared_modules',\n",
       " 'absolute_import',\n",
       " 'alert_pb2',\n",
       " 'alert_service_pb2',\n",
       " 'any_pb2',\n",
       " 'api_metric_pb2',\n",
       " 'common_pb2',\n",
       " 'distribution_pb2',\n",
       " 'dropped_labels_pb2',\n",
       " 'duration_pb2',\n",
       " 'empty_pb2',\n",
       " 'field_mask_pb2',\n",
       " 'get_messages',\n",
       " 'group_pb2',\n",
       " 'group_service_pb2',\n",
       " 'label_pb2',\n",
       " 'message',\n",
       " 'metric_service_pb2',\n",
       " 'module',\n",
       " 'monitored_resource_pb2',\n",
       " 'mutation_record_pb2',\n",
       " 'name',\n",
       " 'names',\n",
       " 'notification_pb2',\n",
       " 'notification_service_pb2',\n",
       " 'proto_metric_pb2',\n",
       " 'service_pb2',\n",
       " 'service_service_pb2',\n",
       " 'span_context_pb2',\n",
       " 'status_pb2',\n",
       " 'struct_pb2',\n",
       " 'sys',\n",
       " 'timestamp_pb2',\n",
       " 'uptime_pb2',\n",
       " 'uptime_service_pb2',\n",
       " 'wrappers_pb2']"
      ]
     },
     "execution_count": 9,
     "metadata": {},
     "output_type": "execute_result"
    }
   ],
   "source": [
    "dir(monitoring_v3.types)"
   ]
  },
  {
   "cell_type": "code",
   "execution_count": null,
   "metadata": {},
   "outputs": [],
   "source": []
  },
  {
   "cell_type": "code",
   "execution_count": 85,
   "metadata": {},
   "outputs": [],
   "source": [
    "for descriptor in client.list_metric_descriptors(name=project_name, filter_=filter):\n",
    "    print(f'Deleting: {descriptor.name}')\n",
    "    client.delete_metric_descriptor(name=descriptor.name)"
   ]
  },
  {
   "cell_type": "code",
   "execution_count": 87,
   "metadata": {},
   "outputs": [],
   "source": [
    "project_id = 'jk-mlops-dev'\n",
    "metric_type = 'custom.googleapis.com/opencensus/gce/gpu/utilization_distribution'"
   ]
  },
  {
   "cell_type": "code",
   "execution_count": 88,
   "metadata": {},
   "outputs": [],
   "source": [
    "START_TIME = datetime.datetime.fromisoformat('2021-01-22T04:00:00-00:00')\n",
    "END_TIME = datetime.datetime.fromisoformat('2021-01-22T05:00:00-00:00')"
   ]
  },
  {
   "cell_type": "code",
   "execution_count": 91,
   "metadata": {},
   "outputs": [],
   "source": [
    "query = Query(client, project_id, metric_type=metric_type)\n",
    "query = query.select_interval(END_TIME, START_TIME)\n",
    "#query = query.select_resources(instance_id='1297153725150009955')\n",
    "#query = query.select_metrics(opencensus_task='py-13989@jk-test')"
   ]
  },
  {
   "cell_type": "code",
   "execution_count": 94,
   "metadata": {},
   "outputs": [
    {
     "data": {
      "text/html": [
       "<div>\n",
       "<style scoped>\n",
       "    .dataframe tbody tr th:only-of-type {\n",
       "        vertical-align: middle;\n",
       "    }\n",
       "\n",
       "    .dataframe tbody tr th {\n",
       "        vertical-align: top;\n",
       "    }\n",
       "\n",
       "    .dataframe thead tr th {\n",
       "        text-align: left;\n",
       "    }\n",
       "</style>\n",
       "<table border=\"1\" class=\"dataframe\">\n",
       "  <thead>\n",
       "    <tr>\n",
       "      <th>resource_type</th>\n",
       "      <th colspan=\"2\" halign=\"left\">gce_instance</th>\n",
       "    </tr>\n",
       "    <tr>\n",
       "      <th>project_id</th>\n",
       "      <th colspan=\"2\" halign=\"left\">jk-mlops-dev</th>\n",
       "    </tr>\n",
       "    <tr>\n",
       "      <th>zone</th>\n",
       "      <th colspan=\"2\" halign=\"left\">us-west1-b</th>\n",
       "    </tr>\n",
       "    <tr>\n",
       "      <th>instance_id</th>\n",
       "      <th colspan=\"2\" halign=\"left\">5382047594078986292</th>\n",
       "    </tr>\n",
       "    <tr>\n",
       "      <th>device</th>\n",
       "      <th>0</th>\n",
       "      <th>1</th>\n",
       "    </tr>\n",
       "  </thead>\n",
       "  <tbody>\n",
       "    <tr>\n",
       "      <th>2021-01-22 04:02:11.137948</th>\n",
       "      <td>count: 6\\nbucket_options {\\n  explicit_buckets...</td>\n",
       "      <td>count: 6\\nbucket_options {\\n  explicit_buckets...</td>\n",
       "    </tr>\n",
       "    <tr>\n",
       "      <th>2021-01-22 04:02:41.138088</th>\n",
       "      <td>count: 12\\nbucket_options {\\n  explicit_bucket...</td>\n",
       "      <td>count: 12\\nbucket_options {\\n  explicit_bucket...</td>\n",
       "    </tr>\n",
       "    <tr>\n",
       "      <th>2021-01-22 04:03:11.138221</th>\n",
       "      <td>count: 18\\nbucket_options {\\n  explicit_bucket...</td>\n",
       "      <td>count: 18\\nbucket_options {\\n  explicit_bucket...</td>\n",
       "    </tr>\n",
       "    <tr>\n",
       "      <th>2021-01-22 04:03:41.138345</th>\n",
       "      <td>count: 24\\nbucket_options {\\n  explicit_bucket...</td>\n",
       "      <td>count: 24\\nbucket_options {\\n  explicit_bucket...</td>\n",
       "    </tr>\n",
       "    <tr>\n",
       "      <th>2021-01-22 04:04:11.138576</th>\n",
       "      <td>count: 30\\nbucket_options {\\n  explicit_bucket...</td>\n",
       "      <td>count: 30\\nbucket_options {\\n  explicit_bucket...</td>\n",
       "    </tr>\n",
       "    <tr>\n",
       "      <th>2021-01-22 04:04:41.138740</th>\n",
       "      <td>count: 36\\nbucket_options {\\n  explicit_bucket...</td>\n",
       "      <td>count: 36\\nbucket_options {\\n  explicit_bucket...</td>\n",
       "    </tr>\n",
       "    <tr>\n",
       "      <th>2021-01-22 04:05:11.138878</th>\n",
       "      <td>count: 42\\nbucket_options {\\n  explicit_bucket...</td>\n",
       "      <td>count: 42\\nbucket_options {\\n  explicit_bucket...</td>\n",
       "    </tr>\n",
       "  </tbody>\n",
       "</table>\n",
       "</div>"
      ],
      "text/plain": [
       "resource_type                                                    gce_instance  \\\n",
       "project_id                                                       jk-mlops-dev   \n",
       "zone                                                               us-west1-b   \n",
       "instance_id                                               5382047594078986292   \n",
       "device                                                                      0   \n",
       "2021-01-22 04:02:11.137948  count: 6\\nbucket_options {\\n  explicit_buckets...   \n",
       "2021-01-22 04:02:41.138088  count: 12\\nbucket_options {\\n  explicit_bucket...   \n",
       "2021-01-22 04:03:11.138221  count: 18\\nbucket_options {\\n  explicit_bucket...   \n",
       "2021-01-22 04:03:41.138345  count: 24\\nbucket_options {\\n  explicit_bucket...   \n",
       "2021-01-22 04:04:11.138576  count: 30\\nbucket_options {\\n  explicit_bucket...   \n",
       "2021-01-22 04:04:41.138740  count: 36\\nbucket_options {\\n  explicit_bucket...   \n",
       "2021-01-22 04:05:11.138878  count: 42\\nbucket_options {\\n  explicit_bucket...   \n",
       "\n",
       "resource_type                                                                  \n",
       "project_id                                                                     \n",
       "zone                                                                           \n",
       "instance_id                                                                    \n",
       "device                                                                      1  \n",
       "2021-01-22 04:02:11.137948  count: 6\\nbucket_options {\\n  explicit_buckets...  \n",
       "2021-01-22 04:02:41.138088  count: 12\\nbucket_options {\\n  explicit_bucket...  \n",
       "2021-01-22 04:03:11.138221  count: 18\\nbucket_options {\\n  explicit_bucket...  \n",
       "2021-01-22 04:03:41.138345  count: 24\\nbucket_options {\\n  explicit_bucket...  \n",
       "2021-01-22 04:04:11.138576  count: 30\\nbucket_options {\\n  explicit_bucket...  \n",
       "2021-01-22 04:04:41.138740  count: 36\\nbucket_options {\\n  explicit_bucket...  \n",
       "2021-01-22 04:05:11.138878  count: 42\\nbucket_options {\\n  explicit_bucket...  "
      ]
     },
     "execution_count": 94,
     "metadata": {},
     "output_type": "execute_result"
    }
   ],
   "source": [
    "df = query.as_dataframe()\n",
    "df"
   ]
  },
  {
   "cell_type": "code",
   "execution_count": 27,
   "metadata": {},
   "outputs": [],
   "source": [
    "from google.api_core import exceptions"
   ]
  },
  {
   "cell_type": "code",
   "execution_count": 30,
   "metadata": {},
   "outputs": [
    {
     "name": "stdout",
     "output_type": "stream",
     "text": [
      "wrote metric\n",
      "400 One or more TimeSeries could not be written: One or more points were written more frequently than the maximum sampling period configured for the metric.: timeSeries[0]\n",
      "wrote metric\n",
      "400 One or more TimeSeries could not be written: One or more points were written more frequently than the maximum sampling period configured for the metric.: timeSeries[0]\n",
      "wrote metric\n",
      "wrote metric\n",
      "400 One or more TimeSeries could not be written: One or more points were written more frequently than the maximum sampling period configured for the metric.: timeSeries[0]\n",
      "wrote metric\n"
     ]
    }
   ],
   "source": [
    "initial_util = 70\n",
    "wait_time = 8\n",
    "\n",
    "now = time.time() - 60\n",
    "seconds = int(now) \n",
    "nanos = int(\n",
    "        (now - seconds) * 10**9)\n",
    "\n",
    "for i in range(5):\n",
    "    seconds += 2\n",
    "    try: \n",
    "        report_gpu_metric(value=initial_util+i,\n",
    "                      seconds=seconds,\n",
    "                      nanos=nanos,\n",
    "                      type=metric_type,\n",
    "                      instance_id=instance_id,\n",
    "                      zone=zone,\n",
    "                      project_id=project_id)\n",
    "\n",
    "    except exceptions.GoogleAPICallError as err:\n",
    "        print(err)\n",
    "    except exceptions.RetryError as err:\n",
    "        print('Retry attempts to create time series failed')\n",
    "    except Exception:    \n",
    "        print('create_time_series: exception encountered')\n",
    "        \n",
    "    print('wrote metric')\n",
    "    time.sleep(wait_time)"
   ]
  },
  {
   "cell_type": "code",
   "execution_count": null,
   "metadata": {},
   "outputs": [],
   "source": []
  }
 ],
 "metadata": {
  "environment": {
   "name": "tf2-gpu.2-4.mnightly-2021-01-20-debian-10-test",
   "type": "gcloud",
   "uri": "gcr.io/deeplearning-platform-release/tf2-gpu.2-4:mnightly-2021-01-20-debian-10-test"
  },
  "kernelspec": {
   "display_name": "Python 3",
   "language": "python",
   "name": "python3"
  },
  "language_info": {
   "codemirror_mode": {
    "name": "ipython",
    "version": 3
   },
   "file_extension": ".py",
   "mimetype": "text/x-python",
   "name": "python",
   "nbconvert_exporter": "python",
   "pygments_lexer": "ipython3",
   "version": "3.7.9"
  }
 },
 "nbformat": 4,
 "nbformat_minor": 4
}
